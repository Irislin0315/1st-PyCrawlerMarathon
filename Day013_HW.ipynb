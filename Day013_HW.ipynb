{
 "cells": [
  {
   "cell_type": "markdown",
   "metadata": {},
   "source": [
    "# PTT 網路爬蟲實作練習\n",
    "\n",
    "\n",
    "* 能夠利用 Request + BeatifulSour 撰寫爬蟲，並存放到合適的資料結構\n"
   ]
  },
  {
   "cell_type": "markdown",
   "metadata": {},
   "source": [
    "## 作業目標\n",
    "\n",
    "根據範例 ，完成以下問題：\n",
    "\n",
    "* ① 印出最新文章的「作者」「標題」「時間」\n",
    "* ② 印出第一頁所有文章的「作者」「標題」「時間」\n"
   ]
  },
  {
   "cell_type": "markdown",
   "metadata": {},
   "source": [
    "### ① 印出最新文章的「作者」「標題」「時間」"
   ]
  },
  {
   "cell_type": "code",
   "execution_count": 1,
   "metadata": {},
   "outputs": [
    {
     "name": "stdout",
     "output_type": "stream",
     "text": [
      "[情報] 2020 MVP Ladder (1/3最新一期)\n",
      "作者：nuturewind\n",
      "時間： 1/08\n"
     ]
    }
   ],
   "source": [
    "import requests\n",
    "from bs4 import BeautifulSoup\n",
    "\n",
    "url = 'https://www.ptt.cc/bbs/NBA/index.html'\n",
    "r = requests.get(url)\n",
    "\n",
    "soup = BeautifulSoup(r.text, \"html5lib\")\n",
    "\n",
    "title = soup.find(class_=\"title\").text.replace('\\t', '').replace('\\n', '')\n",
    "name = soup.find(class_=\"author\").text.replace('\\t', '').replace('\\n', '')\n",
    "time = soup.find(class_=\"date\").text.replace('\\t', '').replace('\\n', '')\n",
    "print(title+'\\n'+'作者：'+name+'\\n'+'時間：'+time)"
   ]
  },
  {
   "cell_type": "markdown",
   "metadata": {},
   "source": [
    "### ② 印出第一頁所有文章的「作者」「標題」「時間」"
   ]
  },
  {
   "cell_type": "code",
   "execution_count": 2,
   "metadata": {},
   "outputs": [
    {
     "name": "stdout",
     "output_type": "stream",
     "text": [
      "[情報] 2020 MVP Ladder (1/3最新一期)\n",
      "作者：nuturewind\n",
      "時間： 1/08\n",
      "Re: [情報] 聯盟將在4月討論改制季後賽並取消東西區\n",
      "作者：imlegin\n",
      "時間： 1/08\n",
      "[BOX ] Kings 114:103 Suns 數據\n",
      "作者：Rambo\n",
      "時間： 1/08\n",
      "[情報] 尼克本季惡意犯規次數聯盟第一\n",
      "作者：SeungYeon\n",
      "時間： 1/08\n",
      "[情報] 裁判報告:昨日爵士鵜鶘 最後應吹爵士犯規\n",
      "作者：pneumo\n",
      "時間： 1/08\n",
      "[情報] 湖人將Cousins,Cook,Kuzma試探交易行情\n",
      "作者：ericgary\n",
      "時間： 1/08\n",
      "(本文已被刪除) [s20014411]\n",
      "作者：-\n",
      "時間： 1/08\n",
      "[新聞] 影／艾倫超狂『隔扣』籃網板凳區陷入瘋狂\n",
      "作者：doepe\n",
      "時間： 1/08\n",
      "[情報] Anthony Davis 背部X光檢查呈現陰性\n",
      "作者：thnlkj0665\n",
      "時間： 1/08\n",
      "[討論] Re: [情報] 聯盟將在4月討論改制季後賽並取消東西區之分\n",
      "作者：jacky844a\n",
      "時間： 1/08\n",
      "[BOX ] Knicks 87:117 Lakers 數據\n",
      "作者：Rambo\n",
      "時間： 1/08\n",
      "[情報] LeBron James生涯抄截超越Allen Iverson\n",
      "作者：NSYSUheng\n",
      "時間： 1/08\n",
      "[新聞] 超嘔！2次機會和對手說再見丁威迪都失手\n",
      "作者：diebo\n",
      "時間： 1/08\n",
      "[新聞] 夢回巔峰！準絕殺暴龍　安東尼：我相信\n",
      "作者：fukawa947\n",
      "時間： 1/08\n",
      "[公告] 板規v6.8\n",
      "作者：Vedan\n",
      "時間： 5/24\n",
      "[公告] 樂透取消及未來不再開啟樂透\n",
      "作者：Vedan\n",
      "時間： 6/24\n",
      "[公告] 版主上任相關事項 \n",
      "作者：qazwsx879345\n",
      "時間：10/25\n",
      "[情報] SEASON Schedule 賽程 January 19–20\n",
      "作者：Acetoxy\n",
      "時間： 1/03\n"
     ]
    }
   ],
   "source": [
    "import requests\n",
    "from bs4 import BeautifulSoup\n",
    "\n",
    "url = 'https://www.ptt.cc/bbs/NBA/index.html'\n",
    "r = requests.get(url)\n",
    "\n",
    "soup = BeautifulSoup(r.text, \"html5lib\")\n",
    "\n",
    "for x,y,z in zip(soup.find_all(class_=\"title\"),soup.find_all(class_=\"author\"),soup.find_all(class_=\"date\")):\n",
    "    print(x.text.replace('\\t', '').replace('\\n', '')+'\\n'+'作者：'+y.text.replace('\\t', '').replace('\\n', '')+'\\n'+'時間：'+z.text.replace('\\t', '').replace('\\n', ''))"
   ]
  },
  {
   "cell_type": "markdown",
   "metadata": {},
   "source": [
    "### ③ 試著爬爬看其他版的文章"
   ]
  },
  {
   "cell_type": "code",
   "execution_count": 3,
   "metadata": {},
   "outputs": [
    {
     "name": "stdout",
     "output_type": "stream",
     "text": [
      "[討論] momo 1111 garmin活動討論\n",
      "作者：egniknah\n",
      "時間： 1/08\n",
      "[情報] Open Point 週四會員驚喜 01/09～01/11\n",
      "作者：bleachwe\n",
      "時間： 1/08\n",
      "Re: [情報] 節能爐具補助上路 最高每台省2000元\n",
      "作者：lana723\n",
      "時間： 1/08\n",
      "[情報] 台南大飯店 生日優惠\n",
      "作者：kfcpkcpc\n",
      "時間： 1/08\n",
      "[情報] 全家會員獨享 01/08~01/12+全聯 01/08\n",
      "作者：bleachwe\n",
      "時間： 1/08\n",
      "[情報] Line Points 1+1\n",
      "作者：joyshe78904\n",
      "時間： 1/08\n",
      "Re: [情報] 杜蕾斯超薄型12入207.3/盒!\n",
      "作者：DrumMania\n",
      "時間： 1/08\n",
      "Re: [討論] momo 1111 garmin活動討論\n",
      "作者：kloc\n",
      "時間： 1/08\n",
      "[情報] momo大研魚油兩罐特價\n",
      "作者：Andmer\n",
      "時間： 1/08\n",
      "(本文已被刪除) [weiyuhsi]\n",
      "作者：-\n",
      "時間： 1/08\n",
      "[討論] Openpoint 過年兌換\n",
      "作者：elitie\n",
      "時間： 1/08\n",
      "[情報] momo購物的花王蒸氣眼罩36片特價中\n",
      "作者：showmeihuang\n",
      "時間： 1/08\n",
      "[討論] momo 0106 Levis牛仔褲二件五折活動討論\n",
      "作者：elain75712\n",
      "時間： 1/08\n",
      "[情報] 智利櫻桃312元/500g\n",
      "作者：lingyiao\n",
      "時間： 1/08\n",
      "[情報] Yahoo購物中心 購物金1/8~1/11\n",
      "作者：max220\n",
      "時間： 1/08\n",
      "[情報] 亞太88/168資費上網吃到飽\n",
      "作者：linda73\n",
      "時間： 1/08\n",
      "[情報] 東森line導購6% 今晚20:00~23:59 \n",
      "作者：poeta\n",
      "時間： 1/08\n",
      "[公告] 省錢板板規 2018.11.12\n",
      "作者：kadasaki\n",
      "時間： 6/11\n",
      "[公告] 違規檢舉區\n",
      "作者：medama\n",
      "時間：12/19\n",
      "[公告] 未滿1元之集點資訊 請集中在本篇推文\n",
      "作者：medama\n",
      "時間：12/19\n"
     ]
    }
   ],
   "source": [
    "import requests\n",
    "from bs4 import BeautifulSoup\n",
    "\n",
    "url = 'https://www.ptt.cc/bbs/Lifeismoney/index.html'\n",
    "r = requests.get(url)\n",
    "\n",
    "soup = BeautifulSoup(r.text, \"html5lib\")\n",
    "\n",
    "for x,y,z in zip(soup.find_all(class_=\"title\"),soup.find_all(class_=\"author\"),soup.find_all(class_=\"date\")):\n",
    "    print(x.text.replace('\\t', '').replace('\\n', '')+'\\n'+'作者：'+y.text.replace('\\t', '').replace('\\n', '')+'\\n'+'時間：'+z.text.replace('\\t', '').replace('\\n', ''))"
   ]
  },
  {
   "cell_type": "code",
   "execution_count": null,
   "metadata": {},
   "outputs": [],
   "source": []
  }
 ],
 "metadata": {
  "kernelspec": {
   "display_name": "Python 3",
   "language": "python",
   "name": "python3"
  },
  "language_info": {
   "codemirror_mode": {
    "name": "ipython",
    "version": 3
   },
   "file_extension": ".py",
   "mimetype": "text/x-python",
   "name": "python",
   "nbconvert_exporter": "python",
   "pygments_lexer": "ipython3",
   "version": "3.6.8"
  }
 },
 "nbformat": 4,
 "nbformat_minor": 2
}
