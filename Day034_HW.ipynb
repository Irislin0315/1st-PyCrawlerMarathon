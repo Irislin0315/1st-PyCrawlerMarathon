{
 "cells": [
  {
   "cell_type": "markdown",
   "metadata": {
    "colab_type": "text",
    "id": "I8CoX4R7VoCd"
   },
   "source": [
    "# 反爬：代理伺服器/IP\n",
    "\n",
    "* 了解「IP 黑/白名單」的反爬蟲機制\n",
    "* 「IP 黑/白名單」反爬蟲的因應策略"
   ]
  },
  {
   "cell_type": "markdown",
   "metadata": {
    "colab_type": "text",
    "id": "n-3DZ_r5VoCe"
   },
   "source": [
    "## 作業目標\n",
    "\n",
    "* 目前程式中的 proxy_ips 是手動輸入的，請根據 https://free-proxy-list.net/ 寫一個可自動化抓取可用 Proxy 的 proxy_ips。\n",
    "\n",
    "\n"
   ]
  },
  {
   "cell_type": "code",
   "execution_count": 1,
   "metadata": {},
   "outputs": [],
   "source": [
    "from bs4 import BeautifulSoup\n",
    "import requests\n",
    "import random"
   ]
  },
  {
   "cell_type": "code",
   "execution_count": 2,
   "metadata": {
    "colab": {},
    "colab_type": "code",
    "id": "iny-9heBVoCf"
   },
   "outputs": [
    {
     "name": "stdout",
     "output_type": "stream",
     "text": [
      "['159.65.151.96:8080', '45.64.99.25:8080', '188.166.83.17:3128', '103.28.121.58:80', '138.68.161.60:8080', '188.226.141.127:3128', '82.196.11.105:8080', '138.68.24.145:8080', '144.217.163.138:8080', '173.192.128.238:8123', '88.198.50.103:8080', '169.57.1.84:8123', '188.226.141.61:3128', '80.59.199.212:8080', '162.243.108.161:8080', '200.89.178.231:8080', '207.154.231.217:3128', '138.68.161.14:3128', '191.96.42.80:3128', '176.9.75.42:8080', '8.38.238.212:80', '139.162.78.109:8080', '188.166.83.34:3128', '165.227.215.71:8080', '88.198.24.108:8080', '190.18.207.58:53281', '138.197.222.35:8080', '138.197.157.60:3128', '45.174.152.14:8080', '139.59.53.105:3128', '119.81.199.82:8123', '139.59.109.156:3128', '200.89.178.214:3128', '72.35.40.34:8080', '162.243.108.141:3128', '176.110.166.82:8080', '173.212.202.65:80', '31.173.52.252:80', '52.139.3.203:80', '139.59.53.106:8080', '5.189.133.231:80', '176.9.119.170:8080', '139.59.59.63:8080', '169.57.1.85:80', '161.202.226.194:8123', '138.197.204.55:8080', '67.205.149.230:8080', '43.248.24.158:51166', '119.81.71.27:8123', '81.252.38.12:8080', '37.235.28.1:41353', '138.197.157.44:8080', '118.69.50.154:80', '92.53.77.59:3128', '201.55.160.18:3128', '46.101.194.19:8118', '167.99.70.45:3128', '178.215.76.193:53281', '110.138.232.162:3128', '212.66.152.231:8080', '202.3.72.17:56242', '43.248.24.157:51166', '5.9.218.111:1080', '5.8.203.76:48026', '185.134.23.173:80', '151.253.165.70:8080', '193.178.50.49:3128', '94.127.217.66:40115', '201.39.70.118:8080', '5.9.202.165:1080', '182.253.193.34:8080', '5.9.202.162:1080', '118.175.207.25:38325', '78.46.40.146:8118', '178.63.246.85:8118', '203.162.21.216:8000', '5.9.218.108:1080', '46.150.170.10:53281', '132.147.89.161:8080', '45.55.9.218:8080', '162.243.107.120:8080', '151.232.72.12:80', '174.138.54.49:8080', '188.226.141.211:3128', '198.199.119.119:3128', '113.53.230.167:80', '192.241.245.207:3128', '93.87.17.1:53281', '188.166.83.20:3128', '178.62.193.19:3128', '67.205.132.241:8080', '45.55.27.15:8080', '95.85.36.236:8080', '139.59.99.234:8080', '45.55.27.161:3128', '154.118.52.242:51667', '67.205.146.29:8080', '162.243.163.15:3128', '162.243.108.129:3128', '139.59.101.223:8080']\n"
     ]
    }
   ],
   "source": [
    "proxy_ips = []\n",
    "\n",
    "headers = {'User-Agent': 'Mozilla/5.0 (Windows NT 6.3; Win64; x64) AppleWebKit/537.36 (KHTML, like Gecko) Chrome/79.0.3945.130 Safari/537.36'}\n",
    "url = 'https://free-proxy-list.net/'\n",
    "response = requests.get(url, headers=headers)\n",
    "soup = BeautifulSoup(response.text, 'lxml')\n",
    "\n",
    "for tr in soup.find('tbody').find_all('tr')[:100]:\n",
    "    proxy = tr.find_all('td')[0].text + ':' + tr.find_all('td')[1].text\n",
    "    proxy_ips.append(proxy)\n",
    "    \n",
    "print(proxy_ips)"
   ]
  },
  {
   "cell_type": "code",
   "execution_count": 3,
   "metadata": {
    "colab": {},
    "colab_type": "code",
    "id": "75dIsHjiVoCi"
   },
   "outputs": [
    {
     "name": "stdout",
     "output_type": "stream",
     "text": [
      "Use 159.65.151.96:8080\n",
      "Your IP address: 159.65.151.96\n",
      "Use 45.64.99.25:8080\n",
      "Your IP address: 61.5.9.232\n",
      "Use 188.166.83.17:3128\n",
      "Your IP address: 188.166.83.17\n",
      "Use 103.28.121.58:80\n",
      "Your IP address: 103.28.121.58\n",
      "Use 138.68.161.60:8080\n",
      "Your IP address: 138.68.161.60\n",
      "Use 188.226.141.127:3128\n",
      "Your IP address: 188.226.141.127\n",
      "['159.65.151.96:8080', '45.64.99.25:8080', '188.166.83.17:3128', '103.28.121.58:80', '138.68.161.60:8080', '188.226.141.127:3128']\n"
     ]
    }
   ],
   "source": [
    "available_proxies = []\n",
    "\n",
    "for i in range(100):\n",
    "    ip = proxy_ips[i]\n",
    "    print('Use', ip)\n",
    "    try:\n",
    "        resp = requests.get('http://ip.filefab.com/index.php',\n",
    "                        proxies={'http': ip, 'https': ip}, timeout=10)\n",
    "        soup = BeautifulSoup(resp.text, 'html5lib')\n",
    "        print(soup.find('h1', id='ipd').text.strip())\n",
    "        available_proxies.append(ip)\n",
    "        if len(available_proxies) > 5:\n",
    "            break\n",
    "    except:\n",
    "        print('Fail')\n",
    "    \n",
    "print(available_proxies)"
   ]
  },
  {
   "cell_type": "code",
   "execution_count": 4,
   "metadata": {},
   "outputs": [
    {
     "name": "stdout",
     "output_type": "stream",
     "text": [
      "Use 159.65.151.96:8080\n",
      "Fail\n",
      "Use 45.64.99.25:8080\n",
      "Fail\n",
      "Use 188.166.83.17:3128\n",
      "Fail\n",
      "Use 103.28.121.58:80\n",
      "Fail\n",
      "Use 138.68.161.60:8080\n",
      "Fail\n",
      "Use 188.226.141.127:3128\n",
      "Fail\n"
     ]
    }
   ],
   "source": [
    "for ip in available_proxies:\n",
    "    print('Use', ip)\n",
    "    try:\n",
    "        resp = requests.get('https://httpbin.org/ip',\n",
    "                        proxies={'http': ip, 'https': ip}, timeout=10)\n",
    "        print(resp.json())\n",
    "    except:\n",
    "        print('Fail')"
   ]
  },
  {
   "cell_type": "code",
   "execution_count": null,
   "metadata": {},
   "outputs": [],
   "source": []
  }
 ],
 "metadata": {
  "colab": {
   "name": "homework.ipynb",
   "provenance": []
  },
  "kernelspec": {
   "display_name": "Python 3",
   "language": "python",
   "name": "python3"
  },
  "language_info": {
   "codemirror_mode": {
    "name": "ipython",
    "version": 3
   },
   "file_extension": ".py",
   "mimetype": "text/x-python",
   "name": "python",
   "nbconvert_exporter": "python",
   "pygments_lexer": "ipython3",
   "version": "3.6.8"
  }
 },
 "nbformat": 4,
 "nbformat_minor": 1
}
