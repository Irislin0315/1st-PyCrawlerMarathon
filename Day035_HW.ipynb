{
 "cells": [
  {
   "cell_type": "markdown",
   "metadata": {},
   "source": [
    "# 加速：多線程爬蟲\n",
    "\n",
    "\n",
    "\n",
    "* 了解知乎 API 使用方式與回傳內容\n",
    "* 撰寫程式存取 API 且添加標頭"
   ]
  },
  {
   "cell_type": "markdown",
   "metadata": {},
   "source": [
    "## 作業目標\n",
    "\n",
    "* 找一個之前實作過的爬蟲改用多線程改寫，比較前後時間的差異。\n",
    "\n",
    "\n",
    "\n"
   ]
  },
  {
   "cell_type": "code",
   "execution_count": 1,
   "metadata": {},
   "outputs": [
    {
     "data": {
      "text/plain": [
       "9044"
      ]
     },
     "execution_count": 1,
     "metadata": {},
     "output_type": "execute_result"
    }
   ],
   "source": [
    "#拆成多線程的樣子\n",
    "import _thread\n",
    "import time\n",
    "\n",
    "def print_time( threadName, data, delay):\n",
    "    for d in data:\n",
    "        time.sleep(delay)\n",
    "        print(threadName, ' => ', d)\n",
    "\n",
    "_thread.start_new_thread( print_time, (\"Thread-1\", range(0, 5, 2), 2, ) )\n",
    "_thread.start_new_thread( print_time, (\"Thread-2\", range(1, 5, 2), 5, ) )"
   ]
  },
  {
   "cell_type": "code",
   "execution_count": 2,
   "metadata": {},
   "outputs": [
    {
     "name": "stdout",
     "output_type": "stream",
     "text": [
      "0.9026734828948975\n"
     ]
    }
   ],
   "source": [
    "#作業：比較一般爬蟲與多線程爬蟲\n",
    "\n",
    "#一般爬蟲-ettoday即時、國際、寵物\n",
    "import requests\n",
    "import time\n",
    "\n",
    "urls = ['https://www.ettoday.net/news/news-list.htm', 'https://www.ettoday.net/news/focus/%E5%9C%8B%E9%9A%9B/',\n",
    "        'https://pets.ettoday.net/']\n",
    "\n",
    "startTime = time.time()\n",
    "\n",
    "for url in urls:\n",
    "    requests.get(url)\n",
    "\n",
    "finishTime = time.time()\n",
    "print(finishTime - startTime)"
   ]
  },
  {
   "cell_type": "code",
   "execution_count": 3,
   "metadata": {},
   "outputs": [
    {
     "name": "stdout",
     "output_type": "stream",
     "text": [
      "0.0\n",
      "Thread-1  =>  0\n",
      "Thread-1  =>  2\n",
      "Thread-2  =>  1\n",
      "Thread-1  =>  4\n",
      "Thread-2  =>  3\n"
     ]
    }
   ],
   "source": [
    "#多線程爬蟲-ettoday即時、國際、寵物\n",
    "import requests\n",
    "import _thread\n",
    "import time\n",
    "\n",
    "urls = ['https://www.ettoday.net/news/news-list.htm', 'https://www.ettoday.net/news/focus/%E5%9C%8B%E9%9A%9B/', \n",
    "        'https://pets.ettoday.net/']\n",
    "\n",
    "startTime = time.time()\n",
    "\n",
    "for url in urls:\n",
    "    _thread.start_new_thread( requests.get, (url, ) )\n",
    "\n",
    "finishTime = time.time()\n",
    "print(finishTime - startTime)"
   ]
  },
  {
   "cell_type": "code",
   "execution_count": null,
   "metadata": {},
   "outputs": [],
   "source": []
  }
 ],
 "metadata": {
  "colab": {
   "name": "homework.ipynb",
   "provenance": []
  },
  "kernelspec": {
   "display_name": "Python 3",
   "language": "python",
   "name": "python3"
  },
  "language_info": {
   "codemirror_mode": {
    "name": "ipython",
    "version": 3
   },
   "file_extension": ".py",
   "mimetype": "text/x-python",
   "name": "python",
   "nbconvert_exporter": "python",
   "pygments_lexer": "ipython3",
   "version": "3.6.8"
  }
 },
 "nbformat": 4,
 "nbformat_minor": 1
}
