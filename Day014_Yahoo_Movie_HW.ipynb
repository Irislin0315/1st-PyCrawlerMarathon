{
 "cells": [
  {
   "cell_type": "markdown",
   "metadata": {},
   "source": [
    "# YAHOO電影爬蟲練習\n",
    "## 練習爬取電影放映資訊。必須逐步獲取電影的代號、放映地區、放映日期後，再送出查詢給伺服器。"
   ]
  },
  {
   "cell_type": "code",
   "execution_count": 1,
   "metadata": {},
   "outputs": [],
   "source": [
    "import requests\n",
    "import re\n",
    "from bs4 import BeautifulSoup"
   ]
  },
  {
   "cell_type": "markdown",
   "metadata": {},
   "source": [
    "### 先搜尋全部的電影代號(ID)資訊"
   ]
  },
  {
   "cell_type": "code",
   "execution_count": 2,
   "metadata": {},
   "outputs": [
    {
     "name": "stdout",
     "output_type": "stream",
     "text": [
      "Movie: 菠蘿蜜, ID: 10412\n",
      "Movie: 韓影印象影展, ID: 10410\n",
      "Movie: 陰兒, ID: 10393\n",
      "Movie: 這一次不再錯過你, ID: 10389\n",
      "Movie: 別告訴她, ID: 10382\n",
      "Movie: 鬼屋實錄：惡魔之家, ID: 10378\n",
      "Movie: 驅魔直播, ID: 10375\n",
      "Movie: 真愛裁會贏, ID: 10362\n",
      "Movie: 那一夜, ID: 10345\n",
      "Movie: 兔嘲男孩, ID: 10283\n",
      "Movie: 海上鋼琴師4K數位修復, ID: 10425\n",
      "Movie: 鹿皮奇談, ID: 10420\n",
      "Movie: 大約在冬季, ID: 10408\n",
      "Movie: 倒數計死, ID: 10390\n",
      "Movie: 吹哨人, ID: 10381\n",
      "Movie: 幸福試用期, ID: 10374\n",
      "Movie: 竊竊屍語, ID: 10365\n",
      "Movie: 舞力決戰, ID: 10344\n",
      "Movie: 潛艦追緝, ID: 10333\n",
      "Movie: 霹靂嬌娃, ID: 10124\n",
      "Movie: 白頭山：半島浩劫, ID: 10354\n",
      "Movie: CATS貓, ID: 10166\n",
      "Movie: 海上花, ID: 10376\n",
      "Movie: 怨靈古堡, ID: 10356\n",
      "Movie: 外出偷馬, ID: 10310\n",
      "Movie: 茱蒂, ID: 10112\n",
      "Movie: 燃燒女子的畫像, ID: 10069\n",
      "Movie: 葉問4：完結篇, ID: 9890\n",
      "Movie: STAR WARS : 天行者的崛起, ID: 10225\n",
      "Movie: 南方車站的聚會, ID: 10380\n",
      "Movie: 祭旗, ID: 10373\n",
      "Movie: 黑熊來了, ID: 10357\n",
      "Movie: 黑計畫, ID: 10351\n",
      "Movie: 假面騎士劇場版ZI-O Over Quartzer, ID: 10331\n",
      "Movie: 8級警戒, ID: 10323\n",
      "Movie: 為你存在的每一天, ID: 10297\n",
      "Movie: 大說謊家, ID: 10122\n",
      "Movie: 特約經紀公司, ID: 10364\n",
      "Movie: 人間失格：太宰治與他的3個女人, ID: 10287\n",
      "Movie: 呆萌特務, ID: 10264\n",
      "Movie: 去年聖誕節, ID: 10256\n",
      "Movie: 野蠻遊戲：全面晉級, ID: 10134\n",
      "Movie: 鋒迴路轉, ID: 10258\n",
      "Movie: 賽道狂人, ID: 10097\n",
      "Movie: 82年生的金智英, ID: 10298\n",
      "Movie: 冰雪奇緣2, ID: 9597\n",
      "Movie: 催眠．裁決, ID: 10322\n",
      "Movie: 決戰中途島, ID: 10130\n",
      "Movie: 陽光普照, ID: 10240\n",
      "Movie: 傻傻愛你，傻傻愛我, ID: 10075\n",
      "Movie: 失憶的總理大臣, ID: 10246\n",
      "Movie: 金翅雀, ID: 10072\n",
      "Movie: 雙子殺手, ID: 10017\n",
      "Movie: 盲人律師, ID: 10267\n",
      "Movie: 加油吧！李先生, ID: 10250\n",
      "Movie: 電影版 壞傢伙們, ID: 10249\n",
      "Movie: 江湖無難事, ID: 10241\n",
      "Movie: 仙戒奇緣, ID: 10211\n",
      "Movie: 藍波：最後一滴血, ID: 10205\n",
      "Movie: 屍樂園：髒比雙拼, ID: 10176\n",
      "Movie: 弒婚遊戲, ID: 10171\n",
      "Movie: 108悍將, ID: 10238\n",
      "Movie: 小丑, ID: 9949\n",
      "Movie: 教父II, ID: 10289\n",
      "Movie: 瞞天機密, ID: 10206\n",
      "Movie: 校外打怪教學, ID: 10200\n",
      "Movie: 無間行動, ID: 10155\n",
      "Movie: 囧媽的極地任務, ID: 7772\n",
      "Movie: 返校, ID: 10109\n",
      "Movie: 唐頓莊園, ID: 10064\n",
      "Movie: 衝擊真相, ID: 10215\n",
      "Movie: 舞孃騙很大, ID: 10199\n",
      "Movie: 好小男孩, ID: 9894\n",
      "Movie: 大叔之愛電影版, ID: 10136\n",
      "Movie: 極限逃生, ID: 10174\n",
      "Movie: 全面攻佔3：天使救援, ID: 10082\n",
      "Movie: 普羅米亞, ID: 10119\n",
      "Movie: 憤怒鳥玩電影2：冰的啦, ID: 10002\n",
      "Movie: 獅子王, ID: 9116\n",
      "Movie: 玩具總動員4, ID: 9924\n",
      "Movie: 我們的青春，在台灣, ID: 9717\n",
      "Movie: 毀滅者, ID: 9405\n",
      "Movie: 庫爾斯克號：深海救援, ID: 9134\n",
      "Movie: 厄夜追緝令, ID: 9589\n",
      "Movie: 苦兒流浪記, ID: 9538\n",
      "Movie: 活個精彩, ID: 9394\n",
      "Movie: 限時好友, ID: 9578\n",
      "Movie: 祝你忌日快樂, ID: 9568\n",
      "Movie: 艾莉塔：戰鬥天使, ID: 8553\n",
      "Movie: 馴龍高手3, ID: 8350\n",
      "Movie: 幸福綠皮書, ID: 9150\n",
      "Movie: 一首搖滾上月球, ID: 4887\n",
      "Movie: 錢不夠用2, ID: 3026\n",
      "Movie: 國際市場：半世紀的諾言, ID: 8273\n",
      "Movie: 當愛沉睡時, ID: 8080\n"
     ]
    }
   ],
   "source": [
    "# 查看目前上映那些電影，並擷取出其ID資訊\n",
    "url = 'https://movies.yahoo.com.tw/'\n",
    "resp = requests.get(url)\n",
    "resp.encoding = 'utf-8'\n",
    "\n",
    "soup = BeautifulSoup(resp.text, 'lxml')\n",
    "html = soup.find(\"select\", attrs={'name':'movie_id'})\n",
    "movie_item = html.find_all(\"option\", attrs={'data-name':re.compile('.*')})\n",
    "\n",
    "for p in movie_item:\n",
    "    print(\"Movie: %s, ID: %s\" % (p[\"data-name\"], p[\"value\"]))"
   ]
  },
  {
   "cell_type": "markdown",
   "metadata": {},
   "source": [
    "### 指定你有興趣的電影其ID，然後查詢其放映地區資訊。"
   ]
  },
  {
   "cell_type": "code",
   "execution_count": 3,
   "metadata": {},
   "outputs": [],
   "source": [
    "# 參考前一個步驟中擷取到的ID資訊，並指定ID\n",
    "movie_id = 10298"
   ]
  },
  {
   "cell_type": "code",
   "execution_count": 4,
   "metadata": {},
   "outputs": [
    {
     "name": "stdout",
     "output_type": "stream",
     "text": [
      "放映地區: 台北市, 代號(area_id): 28\n",
      "放映地區: 新北市, 代號(area_id): 8\n",
      "放映地區: 桃園, 代號(area_id): 16\n",
      "放映地區: 新竹, 代號(area_id): 20\n",
      "放映地區: 台中, 代號(area_id): 2\n",
      "放映地區: 台南, 代號(area_id): 10\n",
      "放映地區: 高雄, 代號(area_id): 17\n"
     ]
    }
   ],
   "source": [
    "url = 'https://movies.yahoo.com.tw/api/v1/areas_by_movie_theater'\n",
    "payload = {'movie_id':str(movie_id)}\n",
    "\n",
    "# 模擬一個header\n",
    "headers = {\n",
    "    'authority': 'movies.yahoo.com.tw',\n",
    "    'method': 'GET',\n",
    "    'path': '/api/v1/areas_by_movie_theater?movie_id=' + str(movie_id),\n",
    "    'scheme': 'https',\n",
    "    'accept': 'application/json, text/javascript, */*; q=0.01',\n",
    "    'accept-encoding': 'gzip, deflate, br',\n",
    "    'accept-language': 'zh-TW,zh;q=0.9,en-US;q=0.8,en;q=0.7,zh-CN;q=0.6',\n",
    "    'cookie': 'rxx=9s3x2fws06.1g16irnc&v=1; _ga=GA1.3.2056742944.1551651301; GUC=AQEBAQFczFpdm0IfmwSB&s=AQAAACoo4N5D&g=XMsVBw; BX=4hkdk1decm57t&b=3&s=mr; _ga=GA1.4.2056742944.1551651301; nexagesuid=82843256dd234e8e91aa73f2062f8218; browsed_movie=eyJpdiI6IlJXWWtiSWJaZlNGK2MxQnhscnVUYWc9PSIsInZhbHVlIjoiMXRhMmVHRXRIeUNjc1RBWDJzdGYwbnlIQURmWGsrcjJSMzhkbkcraDNJVUNIZEZsbzU3amlFcVZ1NzlmazJrTGpoMjVrbHk1YmpoRENXaHZTOUw1TmI2ZTZVWHdOejZQZm16RmVuMWlHTTJLaTZLVFZZVkFOMDlTd1wvSGltcytJIiwibWFjIjoiZWQ2ZjA4MmVjZmZlYjlmNjJmYmY2NGMyMDI0Njc0NWViYjVkOWE2NDg0N2RhODMxZjBjZDhiMmJhZTc2MDZhYiJ9; avi=eyJpdiI6Im1NeWFJRlVRWDR1endEcGRGUGJUbVE9PSIsInZhbHVlIjoickRpU3JuUytmcGl6cjF5OW0rNU9iZz09IiwibWFjIjoiY2VmY2NkNzZmM2NhNjY5YzlkOTcyNjE5OGEyMzU0NWYxOTdmMDRkMDY3OWNmMmZjOTMxYjc5MjI5N2Q5NGE5MiJ9; cmp=t=1559391030&j=0; _gid=GA1.4.779543841.1559391031; XSRF-TOKEN=eyJpdiI6IkhpS2hGcDRQaHlmWUJmaHdSS2Q2bHc9PSIsInZhbHVlIjoiOUVoNFk4OHI1UUZmUWRtYXhza0MyWjJSTlhlZ3RnT0VGeVJPN2JuczVRMGRFdWt2OUlsamVKeHRobFwvcHBGM0dhU3VyMXNGTHlsb2dVM2l0U1hpUGxBPT0iLCJtYWMiOiJkZWU4YzJhNjAxMTY3MzE4Y2ExNWIxYmE1ZjE1YWZlZTlhOTcyYjc4M2RlZGY4ZWNjZDYyMTA2NGYwZGViMzc2In0%3D; m_s=eyJpdiI6InpsZHZ2Tk1BZ0dxaHhETml1RjBnUXc9PSIsInZhbHVlIjoiSkNGeHUranRoXC85bDFiaDhySTJqNkJRcWdjWUxjeVRJSHVYZ1wvd2d4bWJZUTUrSHVDM0lUcW5KNHdETFZ4T1lieU81OUhzc1VoUXhZcWk0UDZSQXVFdz09IiwibWFjIjoiYmJkMDJkMDhlODIzMzcyMWY4M2NmYWNjNGVlOWRjMDIwZmVmNzAyMjE3Yzg3ZGY3ODBkZWEzZTI4MTI5ZWNmOSJ9; _gat=1; nexagesd=10',\n",
    "    'dnt': '1',\n",
    "    'mv-authorization': '21835b082e15b91a69b3851eec7b31b82ce82afb',\n",
    "    'referer': 'https://movies.yahoo.com.tw/',\n",
    "    'user-agent': 'Mozilla/5.0 (Windows NT 10.0; Win64; x64) AppleWebKit/537.36 (KHTML, like Gecko) Chrome/74.0.3729.169 Safari/537.36',\n",
    "    'x-requested-with': 'XMLHttpRequest',\n",
    "}\n",
    "    \n",
    "resp = requests.get(url, params=payload, headers=headers)\n",
    "#print(resp.json())  # 若有需要，列印出json原始碼\n",
    "\n",
    "# 這裡回傳的格式是JSON格式的資料，要解析JSON擷取資料\n",
    "for p in resp.json():\n",
    "    print('放映地區: {0}, 代號(area_id): {1}'.format(p['title'], p['area_id']))"
   ]
  },
  {
   "cell_type": "markdown",
   "metadata": {},
   "source": [
    "### 指定你想要觀看的放映地區，查詢有上映電影的場次日期"
   ]
  },
  {
   "cell_type": "code",
   "execution_count": 5,
   "metadata": {},
   "outputs": [],
   "source": [
    "# 指定放映地區\n",
    "area_id = 28"
   ]
  },
  {
   "cell_type": "code",
   "execution_count": 6,
   "metadata": {},
   "outputs": [
    {
     "name": "stdout",
     "output_type": "stream",
     "text": [
      "一月 8\n",
      "一月 9\n",
      "一月 10\n",
      "一月 11\n",
      "一月 12\n"
     ]
    }
   ],
   "source": [
    "# 向網站發送請求\n",
    "url = 'https://movies.yahoo.com.tw/movietime_result.html'\n",
    "payload = {'movie_id':str(movie_id), 'area_id':str(area_id)}\n",
    "resp = requests.get(url, params=payload)\n",
    "resp.encoding = 'utf-8'\n",
    "\n",
    "soup = BeautifulSoup(resp.text, 'lxml')\n",
    "movie_date = soup.find_all(\"label\", attrs={'for':re.compile(\"date_[\\d]\")})\n",
    "\n",
    "# 列印播放日期\n",
    "for date in movie_date:\n",
    "    print(\"%s %s\" % (date.p.string, date.h3.string))"
   ]
  },
  {
   "cell_type": "markdown",
   "metadata": {},
   "source": [
    "### 最後指定觀看的日期，查詢並列印出放映的電影院、放映類型(數位、3D、IMAX 3D...)、放映時間等資訊。"
   ]
  },
  {
   "cell_type": "code",
   "execution_count": 7,
   "metadata": {},
   "outputs": [],
   "source": [
    "# 選定要觀看的日期\n",
    "date = \"2020-01-08\""
   ]
  },
  {
   "cell_type": "code",
   "execution_count": 8,
   "metadata": {},
   "outputs": [
    {
     "name": "stdout",
     "output_type": "stream",
     "text": [
      "[<ul class=\"area_time _c jq_area_time\" data-theater_name=\"國賓影城(台北長春廣場)\" data-theater_schedules=\"https://movies.yahoo.com.tw/theater_result.html/id=29\" data-theater_url=\"http://www.ambassador.com.tw/\" id=\"theater_id_29\">\n",
      "<li class=\"adds\">\n",
      "<a href=\"https://movies.yahoo.com.tw/theater_result.html/id=29\">國賓影城(台北長春廣場)</a>\n",
      "<span>02-25155755</span>\n",
      "</li>\n",
      "<li class=\"taps\">\n",
      "<span class=\"tapR\">數位</span> </li>\n",
      "<li class=\"time _c\">\n",
      "<div class=\"input_picker jq_input_picker\">\n",
      "<input class=\"gabtn\" data-ga=\"['電影頁_時刻表', '電影頁_時刻表_場次', '82年生的金智英']\" data-movie_date=\"01.08\" data-movie_time=\"11:10\" data-movie_title=\"82年生的金智英\" data-movie_type=\"數位\" data-news=\"news\" id=\"72723792\" name=\"schedule_list\" type=\"radio\" value=\"2020-01-08 11:10:00\"/>\n",
      "<label class=\"\" for=\"72723792\">11:10</label>\n",
      "<input class=\"gabtn\" data-ga=\"['電影頁_時刻表', '電影頁_時刻表_場次', '82年生的金智英']\" data-movie_date=\"01.08\" data-movie_time=\"15:45\" data-movie_title=\"82年生的金智英\" data-movie_type=\"數位\" data-news=\"news\" id=\"72723793\" name=\"schedule_list\" type=\"radio\" value=\"2020-01-08 15:45:00\"/>\n",
      "<label class=\"\" for=\"72723793\">15:45</label>\n",
      "<input class=\"gabtn\" data-ga=\"['電影頁_時刻表', '電影頁_時刻表_場次', '82年生的金智英']\" data-movie_date=\"01.08\" data-movie_time=\"20:20\" data-movie_title=\"82年生的金智英\" data-movie_type=\"數位\" data-news=\"news\" id=\"72723794\" name=\"schedule_list\" type=\"radio\" value=\"2020-01-08 20:20:00\"/>\n",
      "<label class=\"select\" for=\"72723794\">20:20</label>\n",
      "</div>\n",
      "</li>\n",
      "</ul>, <ul class=\"area_time _c jq_area_time\" data-theater_name=\"台北樂聲影城\" data-theater_schedules=\"https://movies.yahoo.com.tw/theater_result.html/id=38\" data-theater_url=\"http://www.luxcinema.com.tw/\" id=\"theater_id_38\">\n",
      "<li class=\"adds\">\n",
      "<a href=\"https://movies.yahoo.com.tw/theater_result.html/id=38\">台北樂聲影城</a>\n",
      "<span>02-23118628</span>\n",
      "</li>\n",
      "<li class=\"taps\">\n",
      "<span class=\"tapR\">數位</span> </li>\n",
      "<li class=\"time _c\">\n",
      "<div class=\"input_picker jq_input_picker\">\n",
      "<input class=\"gabtn\" data-cinema=\"46efa950eafa11e38b12987bdb90dba4\" data-date=\"1578412800\" data-ezding=\"ezding\" data-ga=\"['電影頁_時刻表', '電影頁_時刻表_場次', '82年生的金智英']\" data-movie=\"fec4797b22f54d93bcb305af07de91b3\" data-movie_date=\"01.08\" data-movie_time=\"19:20\" data-movie_title=\"82年生的金智英\" data-movie_type=\"數位\" data-session=\"8d77aaefc9424b20ae80d9edfa7db751\" data-time=\"1578482400\" id=\"72719771\" name=\"schedule_list\" type=\"radio\" value=\"2020-01-08 19:20:00\"/>\n",
      "<label class=\"select\" for=\"72719771\">19:20</label>\n",
      "</div>\n",
      "</li>\n",
      "</ul>, <ul class=\"area_time _c jq_area_time\" data-theater_name=\"哈拉影城\" data-theater_schedules=\"https://movies.yahoo.com.tw/theater_result.html/id=50\" data-theater_url=\"\" id=\"theater_id_50\">\n",
      "<li class=\"adds\">\n",
      "<a href=\"https://movies.yahoo.com.tw/theater_result.html/id=50\">哈拉影城</a>\n",
      "<span>02-26322693</span>\n",
      "</li>\n",
      "<li class=\"taps\">\n",
      "<span class=\"tapR\">數位</span> </li>\n",
      "<li class=\"time _c\">\n",
      "<div class=\"input_picker jq_input_picker\">\n",
      "<input class=\"gabtn\" data-ga=\"['電影頁_時刻表', '電影頁_時刻表_場次', '82年生的金智英']\" data-movie_date=\"01.08\" data-movie_time=\"09:50\" data-movie_title=\"82年生的金智英\" data-movie_type=\"數位\" data-news=\"news\" id=\"72723620\" name=\"schedule_list\" type=\"radio\" value=\"2020-01-08 09:50:00\"/>\n",
      "<label class=\"\" for=\"72723620\">09:50</label>\n",
      "</div>\n",
      "</li>\n",
      "</ul>, <ul class=\"area_time _c jq_area_time\" data-theater_name=\"誠品電影院\" data-theater_schedules=\"https://movies.yahoo.com.tw/theater_result.html/id=168\" data-theater_url=\"https://meet.eslite.com/tw/tc/gallery/201803020001\" id=\"theater_id_168\">\n",
      "<li class=\"adds\">\n",
      "<a href=\"https://movies.yahoo.com.tw/theater_result.html/id=168\">誠品電影院</a>\n",
      "<span>02-66365888</span>\n",
      "</li>\n",
      "<li class=\"taps\">\n",
      "<span class=\"tapR\">數位</span> </li>\n",
      "<li class=\"time _c\">\n",
      "<div class=\"input_picker jq_input_picker\">\n",
      "<input class=\"gabtn\" data-ga=\"['電影頁_時刻表', '電影頁_時刻表_場次', '82年生的金智英']\" data-movie_date=\"01.08\" data-movie_time=\"12:40\" data-movie_title=\"82年生的金智英\" data-movie_type=\"數位\" data-news=\"news\" id=\"72725821\" name=\"schedule_list\" type=\"radio\" value=\"2020-01-08 12:40:00\"/>\n",
      "<label class=\"\" for=\"72725821\">12:40</label>\n",
      "</div>\n",
      "</li>\n",
      "</ul>, <ul class=\"area_time _c jq_area_time\" data-theater_name=\"喜樂時代影城南港店\" data-theater_schedules=\"https://movies.yahoo.com.tw/theater_result.html/id=186\" data-theater_url=\"http://www.centuryasia.com.tw/default.aspx\" id=\"theater_id_186\">\n",
      "<li class=\"adds\">\n",
      "<a href=\"https://movies.yahoo.com.tw/theater_result.html/id=186\">喜樂時代影城南港店</a>\n",
      "<span>02-27888185</span>\n",
      "</li>\n",
      "<li class=\"taps\">\n",
      "<span class=\"tapR\">數位</span> </li>\n",
      "<li class=\"time _c\">\n",
      "<div class=\"input_picker jq_input_picker\">\n",
      "<input class=\"gabtn\" data-cinema=\"40288eb0050f542401050f5681782dc5\" data-date=\"1578412800\" data-ezding=\"ezding\" data-ga=\"['電影頁_時刻表', '電影頁_時刻表_場次', '82年生的金智英']\" data-movie=\"76eeb4eaf285404bb9512138b84f4ee9\" data-movie_date=\"01.08\" data-movie_time=\"17:15\" data-movie_title=\"82年生的金智英\" data-movie_type=\"數位\" data-session=\"e5773d9b9b2040c2bf5cacb486f210b5\" data-time=\"1578474900\" id=\"72706153\" name=\"schedule_list\" type=\"radio\" value=\"2020-01-08 17:15:00\"/>\n",
      "<label class=\"select\" for=\"72706153\">17:15</label>\n",
      "</div>\n",
      "</li>\n",
      "</ul>]\n"
     ]
    }
   ],
   "source": [
    "# 向網站發送請求，獲取上映的電影院及時間資訊\n",
    "url = \"https://movies.yahoo.com.tw/ajax/pc/get_schedule_by_movie\"\n",
    "payload = {'movie_id':str(movie_id),\n",
    "           'date':date,\n",
    "           'area_id':str(area_id),\n",
    "           'theater_id':'',\n",
    "           'datetime':'',\n",
    "           'movie_type_id':''}\n",
    "\n",
    "resp = requests.get(url, params=payload)\n",
    "#print(resp.json()['view'])\n",
    "\n",
    "soup = BeautifulSoup(resp.json()['view'], 'lxml')\n",
    "html = soup.find_all(\"ul\", attrs={'data-theater_name':re.compile(\".*\")})\n",
    "print(html)"
   ]
  },
  {
   "cell_type": "code",
   "execution_count": 9,
   "metadata": {},
   "outputs": [
    {
     "name": "stdout",
     "output_type": "stream",
     "text": [
      "<class 'bs4.element.ResultSet'>\n",
      "<class 'bs4.BeautifulSoup'>\n"
     ]
    }
   ],
   "source": [
    "print(type(html))\n",
    "print(type(soup))"
   ]
  },
  {
   "cell_type": "code",
   "execution_count": 10,
   "metadata": {},
   "outputs": [
    {
     "name": "stdout",
     "output_type": "stream",
     "text": [
      "[<a href=\"https://movies.yahoo.com.tw/theater_result.html/id=29\">國賓影城(台北長春廣場)</a>, <a href=\"https://movies.yahoo.com.tw/theater_result.html/id=38\">台北樂聲影城</a>, <a href=\"https://movies.yahoo.com.tw/theater_result.html/id=50\">哈拉影城</a>, <a href=\"https://movies.yahoo.com.tw/theater_result.html/id=168\">誠品電影院</a>, <a href=\"https://movies.yahoo.com.tw/theater_result.html/id=186\">喜樂時代影城南港店</a>, <a class=\"theater_schedules gabtn\" data-ga=\"['電影頁_時刻表', '電影頁_時刻表_一般戲院_全部電影場次', '']\" href=\"#\">全部電影場次</a>, <a class=\"theater_url gabtn\" data-ga=\"['電影頁_時刻表', '電影頁_時刻表_一般戲院_官網訂票', '']\" href=\"#\" target=\"_blank\">官網訂票</a>, <a class=\"action_btn action_link jq_booking_link gabtn\" data-ga=\"['電影頁_時刻表', '電影頁_時刻表_時報戲院_官網選位', '']\" href=\"#\" target=\"_blank\">官網訂票</a>]\n",
      "\n",
      "電影院：國賓影城(台北長春廣場)\n"
     ]
    }
   ],
   "source": [
    "print(soup.find_all('a'))\n",
    "print('\\n'+'電影院：'+soup.find_all('a')[0].text)"
   ]
  },
  {
   "cell_type": "code",
   "execution_count": 11,
   "metadata": {
    "scrolled": true
   },
   "outputs": [
    {
     "name": "stdout",
     "output_type": "stream",
     "text": [
      "[<input class=\"gabtn\" data-ga=\"['電影頁_時刻表', '電影頁_時刻表_場次', '82年生的金智英']\" data-movie_date=\"01.08\" data-movie_time=\"11:10\" data-movie_title=\"82年生的金智英\" data-movie_type=\"數位\" data-news=\"news\" id=\"72723792\" name=\"schedule_list\" type=\"radio\" value=\"2020-01-08 11:10:00\"/>, <input class=\"gabtn\" data-ga=\"['電影頁_時刻表', '電影頁_時刻表_場次', '82年生的金智英']\" data-movie_date=\"01.08\" data-movie_time=\"15:45\" data-movie_title=\"82年生的金智英\" data-movie_type=\"數位\" data-news=\"news\" id=\"72723793\" name=\"schedule_list\" type=\"radio\" value=\"2020-01-08 15:45:00\"/>, <input class=\"gabtn\" data-ga=\"['電影頁_時刻表', '電影頁_時刻表_場次', '82年生的金智英']\" data-movie_date=\"01.08\" data-movie_time=\"20:20\" data-movie_title=\"82年生的金智英\" data-movie_type=\"數位\" data-news=\"news\" id=\"72723794\" name=\"schedule_list\" type=\"radio\" value=\"2020-01-08 20:20:00\"/>, <input class=\"gabtn\" data-cinema=\"46efa950eafa11e38b12987bdb90dba4\" data-date=\"1578412800\" data-ezding=\"ezding\" data-ga=\"['電影頁_時刻表', '電影頁_時刻表_場次', '82年生的金智英']\" data-movie=\"fec4797b22f54d93bcb305af07de91b3\" data-movie_date=\"01.08\" data-movie_time=\"19:20\" data-movie_title=\"82年生的金智英\" data-movie_type=\"數位\" data-session=\"8d77aaefc9424b20ae80d9edfa7db751\" data-time=\"1578482400\" id=\"72719771\" name=\"schedule_list\" type=\"radio\" value=\"2020-01-08 19:20:00\"/>, <input class=\"gabtn\" data-ga=\"['電影頁_時刻表', '電影頁_時刻表_場次', '82年生的金智英']\" data-movie_date=\"01.08\" data-movie_time=\"09:50\" data-movie_title=\"82年生的金智英\" data-movie_type=\"數位\" data-news=\"news\" id=\"72723620\" name=\"schedule_list\" type=\"radio\" value=\"2020-01-08 09:50:00\"/>, <input class=\"gabtn\" data-ga=\"['電影頁_時刻表', '電影頁_時刻表_場次', '82年生的金智英']\" data-movie_date=\"01.08\" data-movie_time=\"12:40\" data-movie_title=\"82年生的金智英\" data-movie_type=\"數位\" data-news=\"news\" id=\"72725821\" name=\"schedule_list\" type=\"radio\" value=\"2020-01-08 12:40:00\"/>, <input class=\"gabtn\" data-cinema=\"40288eb0050f542401050f5681782dc5\" data-date=\"1578412800\" data-ezding=\"ezding\" data-ga=\"['電影頁_時刻表', '電影頁_時刻表_場次', '82年生的金智英']\" data-movie=\"76eeb4eaf285404bb9512138b84f4ee9\" data-movie_date=\"01.08\" data-movie_time=\"17:15\" data-movie_title=\"82年生的金智英\" data-movie_type=\"數位\" data-session=\"e5773d9b9b2040c2bf5cacb486f210b5\" data-time=\"1578474900\" id=\"72706153\" name=\"schedule_list\" type=\"radio\" value=\"2020-01-08 17:15:00\"/>, <a class=\"theater_schedules gabtn\" data-ga=\"['電影頁_時刻表', '電影頁_時刻表_一般戲院_全部電影場次', '']\" href=\"#\">全部電影場次</a>, <a class=\"theater_url gabtn\" data-ga=\"['電影頁_時刻表', '電影頁_時刻表_一般戲院_官網訂票', '']\" href=\"#\" target=\"_blank\">官網訂票</a>, <button class=\"action_btn action_booking_btn jq_booking_btn gabtn\" data-ga=\"['電影頁_時刻表', '電影頁_時刻表_一般戲院_選位', '']\" type=\"submit\">選位</button>, <a class=\"action_btn action_link jq_booking_link gabtn\" data-ga=\"['電影頁_時刻表', '電影頁_時刻表_時報戲院_官網選位', '']\" href=\"#\" target=\"_blank\">官網訂票</a>]\n",
      "---------------------------------------------------------------------\n",
      "<input class=\"gabtn\" data-ga=\"['電影頁_時刻表', '電影頁_時刻表_場次', '82年生的金智英']\" data-movie_date=\"01.08\" data-movie_time=\"11:10\" data-movie_title=\"82年生的金智英\" data-movie_type=\"數位\" data-news=\"news\" id=\"72723792\" name=\"schedule_list\" type=\"radio\" value=\"2020-01-08 11:10:00\"/>\n",
      "\n",
      "放映類型：數位\n",
      "\n",
      "2020-01-08 11:10\n"
     ]
    }
   ],
   "source": [
    "print(soup.find_all(class_=\"gabtn\"))\n",
    "print('---------------------------------------------------------------------')\n",
    "print(soup.find_all(class_=\"gabtn\")[0])\n",
    "print('\\n'+'放映類型：'+soup.find_all(class_=\"gabtn\")[0]['data-movie_type'])\n",
    "print('\\n'+date+' '+soup.find_all(class_=\"gabtn\")[0]['data-movie_time'])"
   ]
  },
  {
   "cell_type": "code",
   "execution_count": 12,
   "metadata": {},
   "outputs": [
    {
     "name": "stdout",
     "output_type": "stream",
     "text": [
      "[<ul class=\"area_time _c jq_area_time\" data-theater_name=\"國賓影城(台北長春廣場)\" data-theater_schedules=\"https://movies.yahoo.com.tw/theater_result.html/id=29\" data-theater_url=\"http://www.ambassador.com.tw/\" id=\"theater_id_29\">\n",
      "<li class=\"adds\">\n",
      "<a href=\"https://movies.yahoo.com.tw/theater_result.html/id=29\">國賓影城(台北長春廣場)</a>\n",
      "<span>02-25155755</span>\n",
      "</li>\n",
      "<li class=\"taps\">\n",
      "<span class=\"tapR\">數位</span> </li>\n",
      "<li class=\"time _c\">\n",
      "<div class=\"input_picker jq_input_picker\">\n",
      "<input class=\"gabtn\" data-ga=\"['電影頁_時刻表', '電影頁_時刻表_場次', '82年生的金智英']\" data-movie_date=\"01.08\" data-movie_time=\"11:10\" data-movie_title=\"82年生的金智英\" data-movie_type=\"數位\" data-news=\"news\" id=\"72723792\" name=\"schedule_list\" type=\"radio\" value=\"2020-01-08 11:10:00\"/>\n",
      "<label class=\"\" for=\"72723792\">11:10</label>\n",
      "<input class=\"gabtn\" data-ga=\"['電影頁_時刻表', '電影頁_時刻表_場次', '82年生的金智英']\" data-movie_date=\"01.08\" data-movie_time=\"15:45\" data-movie_title=\"82年生的金智英\" data-movie_type=\"數位\" data-news=\"news\" id=\"72723793\" name=\"schedule_list\" type=\"radio\" value=\"2020-01-08 15:45:00\"/>\n",
      "<label class=\"\" for=\"72723793\">15:45</label>\n",
      "<input class=\"gabtn\" data-ga=\"['電影頁_時刻表', '電影頁_時刻表_場次', '82年生的金智英']\" data-movie_date=\"01.08\" data-movie_time=\"20:20\" data-movie_title=\"82年生的金智英\" data-movie_type=\"數位\" data-news=\"news\" id=\"72723794\" name=\"schedule_list\" type=\"radio\" value=\"2020-01-08 20:20:00\"/>\n",
      "<label class=\"select\" for=\"72723794\">20:20</label>\n",
      "</div>\n",
      "</li>\n",
      "</ul>, <ul class=\"area_time _c jq_area_time\" data-theater_name=\"台北樂聲影城\" data-theater_schedules=\"https://movies.yahoo.com.tw/theater_result.html/id=38\" data-theater_url=\"http://www.luxcinema.com.tw/\" id=\"theater_id_38\">\n",
      "<li class=\"adds\">\n",
      "<a href=\"https://movies.yahoo.com.tw/theater_result.html/id=38\">台北樂聲影城</a>\n",
      "<span>02-23118628</span>\n",
      "</li>\n",
      "<li class=\"taps\">\n",
      "<span class=\"tapR\">數位</span> </li>\n",
      "<li class=\"time _c\">\n",
      "<div class=\"input_picker jq_input_picker\">\n",
      "<input class=\"gabtn\" data-cinema=\"46efa950eafa11e38b12987bdb90dba4\" data-date=\"1578412800\" data-ezding=\"ezding\" data-ga=\"['電影頁_時刻表', '電影頁_時刻表_場次', '82年生的金智英']\" data-movie=\"fec4797b22f54d93bcb305af07de91b3\" data-movie_date=\"01.08\" data-movie_time=\"19:20\" data-movie_title=\"82年生的金智英\" data-movie_type=\"數位\" data-session=\"8d77aaefc9424b20ae80d9edfa7db751\" data-time=\"1578482400\" id=\"72719771\" name=\"schedule_list\" type=\"radio\" value=\"2020-01-08 19:20:00\"/>\n",
      "<label class=\"select\" for=\"72719771\">19:20</label>\n",
      "</div>\n",
      "</li>\n",
      "</ul>, <ul class=\"area_time _c jq_area_time\" data-theater_name=\"哈拉影城\" data-theater_schedules=\"https://movies.yahoo.com.tw/theater_result.html/id=50\" data-theater_url=\"\" id=\"theater_id_50\">\n",
      "<li class=\"adds\">\n",
      "<a href=\"https://movies.yahoo.com.tw/theater_result.html/id=50\">哈拉影城</a>\n",
      "<span>02-26322693</span>\n",
      "</li>\n",
      "<li class=\"taps\">\n",
      "<span class=\"tapR\">數位</span> </li>\n",
      "<li class=\"time _c\">\n",
      "<div class=\"input_picker jq_input_picker\">\n",
      "<input class=\"gabtn\" data-ga=\"['電影頁_時刻表', '電影頁_時刻表_場次', '82年生的金智英']\" data-movie_date=\"01.08\" data-movie_time=\"09:50\" data-movie_title=\"82年生的金智英\" data-movie_type=\"數位\" data-news=\"news\" id=\"72723620\" name=\"schedule_list\" type=\"radio\" value=\"2020-01-08 09:50:00\"/>\n",
      "<label class=\"\" for=\"72723620\">09:50</label>\n",
      "</div>\n",
      "</li>\n",
      "</ul>, <ul class=\"area_time _c jq_area_time\" data-theater_name=\"誠品電影院\" data-theater_schedules=\"https://movies.yahoo.com.tw/theater_result.html/id=168\" data-theater_url=\"https://meet.eslite.com/tw/tc/gallery/201803020001\" id=\"theater_id_168\">\n",
      "<li class=\"adds\">\n",
      "<a href=\"https://movies.yahoo.com.tw/theater_result.html/id=168\">誠品電影院</a>\n",
      "<span>02-66365888</span>\n",
      "</li>\n",
      "<li class=\"taps\">\n",
      "<span class=\"tapR\">數位</span> </li>\n",
      "<li class=\"time _c\">\n",
      "<div class=\"input_picker jq_input_picker\">\n",
      "<input class=\"gabtn\" data-ga=\"['電影頁_時刻表', '電影頁_時刻表_場次', '82年生的金智英']\" data-movie_date=\"01.08\" data-movie_time=\"12:40\" data-movie_title=\"82年生的金智英\" data-movie_type=\"數位\" data-news=\"news\" id=\"72725821\" name=\"schedule_list\" type=\"radio\" value=\"2020-01-08 12:40:00\"/>\n",
      "<label class=\"\" for=\"72725821\">12:40</label>\n",
      "</div>\n",
      "</li>\n",
      "</ul>, <ul class=\"area_time _c jq_area_time\" data-theater_name=\"喜樂時代影城南港店\" data-theater_schedules=\"https://movies.yahoo.com.tw/theater_result.html/id=186\" data-theater_url=\"http://www.centuryasia.com.tw/default.aspx\" id=\"theater_id_186\">\n",
      "<li class=\"adds\">\n",
      "<a href=\"https://movies.yahoo.com.tw/theater_result.html/id=186\">喜樂時代影城南港店</a>\n",
      "<span>02-27888185</span>\n",
      "</li>\n",
      "<li class=\"taps\">\n",
      "<span class=\"tapR\">數位</span> </li>\n",
      "<li class=\"time _c\">\n",
      "<div class=\"input_picker jq_input_picker\">\n",
      "<input class=\"gabtn\" data-cinema=\"40288eb0050f542401050f5681782dc5\" data-date=\"1578412800\" data-ezding=\"ezding\" data-ga=\"['電影頁_時刻表', '電影頁_時刻表_場次', '82年生的金智英']\" data-movie=\"76eeb4eaf285404bb9512138b84f4ee9\" data-movie_date=\"01.08\" data-movie_time=\"17:15\" data-movie_title=\"82年生的金智英\" data-movie_type=\"數位\" data-session=\"e5773d9b9b2040c2bf5cacb486f210b5\" data-time=\"1578474900\" id=\"72706153\" name=\"schedule_list\" type=\"radio\" value=\"2020-01-08 17:15:00\"/>\n",
      "<label class=\"select\" for=\"72706153\">17:15</label>\n",
      "</div>\n",
      "</li>\n",
      "</ul>]\n",
      "----------------------------------------------------------------\n",
      "<ul class=\"area_time _c jq_area_time\" data-theater_name=\"國賓影城(台北長春廣場)\" data-theater_schedules=\"https://movies.yahoo.com.tw/theater_result.html/id=29\" data-theater_url=\"http://www.ambassador.com.tw/\" id=\"theater_id_29\">\n",
      "<li class=\"adds\">\n",
      "<a href=\"https://movies.yahoo.com.tw/theater_result.html/id=29\">國賓影城(台北長春廣場)</a>\n",
      "<span>02-25155755</span>\n",
      "</li>\n",
      "<li class=\"taps\">\n",
      "<span class=\"tapR\">數位</span> </li>\n",
      "<li class=\"time _c\">\n",
      "<div class=\"input_picker jq_input_picker\">\n",
      "<input class=\"gabtn\" data-ga=\"['電影頁_時刻表', '電影頁_時刻表_場次', '82年生的金智英']\" data-movie_date=\"01.08\" data-movie_time=\"11:10\" data-movie_title=\"82年生的金智英\" data-movie_type=\"數位\" data-news=\"news\" id=\"72723792\" name=\"schedule_list\" type=\"radio\" value=\"2020-01-08 11:10:00\"/>\n",
      "<label class=\"\" for=\"72723792\">11:10</label>\n",
      "<input class=\"gabtn\" data-ga=\"['電影頁_時刻表', '電影頁_時刻表_場次', '82年生的金智英']\" data-movie_date=\"01.08\" data-movie_time=\"15:45\" data-movie_title=\"82年生的金智英\" data-movie_type=\"數位\" data-news=\"news\" id=\"72723793\" name=\"schedule_list\" type=\"radio\" value=\"2020-01-08 15:45:00\"/>\n",
      "<label class=\"\" for=\"72723793\">15:45</label>\n",
      "<input class=\"gabtn\" data-ga=\"['電影頁_時刻表', '電影頁_時刻表_場次', '82年生的金智英']\" data-movie_date=\"01.08\" data-movie_time=\"20:20\" data-movie_title=\"82年生的金智英\" data-movie_type=\"數位\" data-news=\"news\" id=\"72723794\" name=\"schedule_list\" type=\"radio\" value=\"2020-01-08 20:20:00\"/>\n",
      "<label class=\"select\" for=\"72723794\">20:20</label>\n",
      "</div>\n",
      "</li>\n",
      "</ul>\n"
     ]
    }
   ],
   "source": [
    "print(soup.find_all('ul',class_=\"area_time _c jq_area_time\"))\n",
    "print('----------------------------------------------------------------')\n",
    "print(soup.find_all('ul',class_=\"area_time _c jq_area_time\")[0])"
   ]
  },
  {
   "cell_type": "code",
   "execution_count": 13,
   "metadata": {},
   "outputs": [
    {
     "name": "stdout",
     "output_type": "stream",
     "text": [
      "國賓影城(台北長春廣場)\n",
      "數位\n",
      "2020-01-08 11:10:00\n",
      "2020-01-08 15:45:00\n",
      "2020-01-08 20:20:00\n"
     ]
    }
   ],
   "source": [
    "l1 = soup.find_all('ul',class_=\"area_time _c jq_area_time\")[0]\n",
    "print(l1.find('a').text)\n",
    "print(l1.find(class_=\"gabtn\")['data-movie_type'])\n",
    "#print(len(l1.find_all(class_=\"gabtn\")))\n",
    "for i in range(len(l1.find_all(class_=\"gabtn\"))):\n",
    "    print(l1.find_all(class_=\"gabtn\")[i]['value'])"
   ]
  },
  {
   "cell_type": "code",
   "execution_count": 14,
   "metadata": {},
   "outputs": [
    {
     "name": "stdout",
     "output_type": "stream",
     "text": [
      "電影院：國賓影城(台北長春廣場)\n",
      "放映類型：數位\n",
      "2020-01-08 11:10:00\n",
      "2020-01-08 15:45:00\n",
      "2020-01-08 20:20:00\n",
      "電影院：台北樂聲影城\n",
      "放映類型：數位\n",
      "2020-01-08 19:20:00\n",
      "電影院：哈拉影城\n",
      "放映類型：數位\n",
      "2020-01-08 09:50:00\n",
      "電影院：誠品電影院\n",
      "放映類型：數位\n",
      "2020-01-08 12:40:00\n",
      "電影院：喜樂時代影城南港店\n",
      "放映類型：數位\n",
      "2020-01-08 17:15:00\n"
     ]
    }
   ],
   "source": [
    "#從回傳的電影院資料中，擷取電影院名稱、影片放映類型以及時間表\n",
    "lists = soup.find_all('ul',class_=\"area_time _c jq_area_time\")\n",
    "for l in lists:\n",
    "    print('電影院：'+l.find('a').text+'\\n'+'放映類型：'+l.find(class_=\"gabtn\")['data-movie_type'])\n",
    "    for i in range(len(l.find_all(class_=\"gabtn\"))):\n",
    "        print(l.find_all(class_=\"gabtn\")[i]['value'])"
   ]
  }
 ],
 "metadata": {
  "kernelspec": {
   "display_name": "Python 3",
   "language": "python",
   "name": "python3"
  },
  "language_info": {
   "codemirror_mode": {
    "name": "ipython",
    "version": 3
   },
   "file_extension": ".py",
   "mimetype": "text/x-python",
   "name": "python",
   "nbconvert_exporter": "python",
   "pygments_lexer": "ipython3",
   "version": "3.6.8"
  }
 },
 "nbformat": 4,
 "nbformat_minor": 2
}
