{
 "cells": [
  {
   "cell_type": "markdown",
   "metadata": {},
   "source": [
    "# Ettoday 網路爬蟲實作練習\n",
    "\n",
    "\n",
    "* 能夠利用 Request + BeatifulSour 撰寫爬蟲，並存放到合適的資料結構\n"
   ]
  },
  {
   "cell_type": "markdown",
   "metadata": {},
   "source": [
    "## 作業目標\n",
    "\n",
    "根據範例：\n",
    "\n",
    "1. 取出今天所有的新聞\n",
    "2. 取出現在時間兩小時內的新聞\n",
    "3. 根據範例，取出三天前下午三點到五點的新聞"
   ]
  },
  {
   "cell_type": "markdown",
   "metadata": {},
   "source": [
    "## 1. 取出今天所有的新聞"
   ]
  },
  {
   "cell_type": "code",
   "execution_count": null,
   "metadata": {},
   "outputs": [],
   "source": [
    "from selenium import webdriver\n",
    "from bs4 import BeautifulSoup\n",
    "from datetime import datetime\n",
    "import time\n",
    "\n",
    "date_time = datetime.now()\n",
    "date_time = date_time.strftime(\"%Y/%m/%d\")\n",
    "print(date_time)\n",
    "\n",
    "browser = webdriver.Chrome(executable_path='chromedriver')\n",
    "browser.get(\"https://www.ettoday.net/news/news-list.htm\")\n",
    "html_source = browser.page_source\n",
    "soup = BeautifulSoup(html_source, \"html5lib\")\n",
    "\n",
    "# 每2秒鐘自動往下滑\n",
    "while True:\n",
    "    browser.execute_script(\"window.scrollTo(0, 10000);\") # execute_script -> 在webdriver中執行javasript\n",
    "                            # window.scrollTo(x, y) -> 平滑滾動至給定座標\n",
    "    time.sleep(2)\n",
    "    html_source = browser.page_source\n",
    "    soup = BeautifulSoup(html_source, \"html5lib\")\n",
    "    if date_time not in soup.find_all(class_=\"part_list_2\")[-1].find_all('h3')[-1].find(class_=\"date\").text:\n",
    "        break"
   ]
  },
  {
   "cell_type": "code",
   "execution_count": null,
   "metadata": {},
   "outputs": [],
   "source": [
    "for d in soup.find(class_=\"part_list_2\").find_all('h3'):\n",
    "    if date_time in d.find(class_=\"date\").text==False:\n",
    "        break\n",
    "    print(d.find(class_=\"date\").text, d.find_all('a')[-1].text)"
   ]
  },
  {
   "cell_type": "code",
   "execution_count": null,
   "metadata": {},
   "outputs": [],
   "source": [
    "news = []\n",
    "\n",
    "for d in soup.find(class_=\"part_list_2\").find_all('h3'):\n",
    "    if date_time in d.find(class_=\"date\").text :\n",
    "        break\n",
    "    news.append({\n",
    "        '時間': d.find(class_=\"date\").text,\n",
    "        '標題': d.find_all('a')[-1].text\n",
    "    })\n",
    "\n",
    "import pandas as pd\n",
    "pd.DataFrame(news)"
   ]
  },
  {
   "cell_type": "markdown",
   "metadata": {},
   "source": [
    "## 2. 取出現在時間兩小時內的新聞"
   ]
  },
  {
   "cell_type": "code",
   "execution_count": null,
   "metadata": {},
   "outputs": [],
   "source": [
    "from datetime import datetime, timedelta\n",
    "two_hours_ago_time = datetime.now() - timedelta(hours=2)\n",
    "\n",
    "# 取得資料（整理成好的格式）\n",
    "news = []\n",
    "\n",
    "for d in soup.find(class_=\"part_list_2\").find_all('h3'):\n",
    "    # 比兩小時前早的話就結束\n",
    "    if datetime.strptime(d.find(class_=\"date\").text, '%Y/%m/%d %H:%M') < two_hours_ago_time:\n",
    "        break\n",
    "    \n",
    "    news.append({\n",
    "        '時間': d.find(class_=\"date\").text,\n",
    "        '標題': d.find_all('a')[-1].text\n",
    "    })\n",
    "\n",
    "import pandas as pd\n",
    "pd.DataFrame(news)"
   ]
  },
  {
   "cell_type": "markdown",
   "metadata": {},
   "source": [
    "## 3. 根據範例，取出三天前下午三點到五點的新聞"
   ]
  },
  {
   "cell_type": "code",
   "execution_count": null,
   "metadata": {},
   "outputs": [],
   "source": [
    "date_time = datetime.now() - timedelta(3)\n",
    "print(date_time) #三天前日期\n",
    "\n",
    "date_time_month = date_time.strftime(\"%m\")\n",
    "date_time_day = date_time.strftime(\"%d\")\n",
    "print(date_time_month) #月\n",
    "print(date_time_day) #日\n",
    "\n",
    "\n",
    "three_days_15_clock = datetime.strptime(date_time.strftime(\"%Y/%m/%d\") + ' 15', '%Y/%m/%d %H')\n",
    "three_days_17_clock = datetime.strptime(date_time.strftime(\"%Y/%m/%d\") + ' 17', '%Y/%m/%d %H')\n",
    "print(three_days_15_clock) #下午三點\n",
    "print(three_days_17_clock) #下午五點"
   ]
  },
  {
   "cell_type": "code",
   "execution_count": null,
   "metadata": {},
   "outputs": [],
   "source": [
    "from selenium.webdriver.support.ui import Select\n",
    "\n",
    "selM = Select(browser.find_element_by_id(\"selM\"))\n",
    "selM.select_by_value(date_time_month)\n",
    "selD = Select(browser.find_element_by_id(\"selD\"))\n",
    "selD.select_by_value(date_time_day)\n",
    "browser.find_element_by_id('button').click()"
   ]
  },
  {
   "cell_type": "code",
   "execution_count": null,
   "metadata": {},
   "outputs": [],
   "source": []
  }
 ],
 "metadata": {
  "kernelspec": {
   "display_name": "Python 3",
   "language": "python",
   "name": "python3"
  },
  "language_info": {
   "codemirror_mode": {
    "name": "ipython",
    "version": 3
   },
   "file_extension": ".py",
   "mimetype": "text/x-python",
   "name": "python",
   "nbconvert_exporter": "python",
   "pygments_lexer": "ipython3",
   "version": "3.6.8"
  }
 },
 "nbformat": 4,
 "nbformat_minor": 2
}
